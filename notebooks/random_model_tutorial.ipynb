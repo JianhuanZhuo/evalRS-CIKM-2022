{
 "cells": [
  {
   "cell_type": "markdown",
   "metadata": {},
   "source": [
    "## Random model tutorial\n",
    "\n",
    "\n",
    "In this notebook, we present a more verbose version of the standard submission.py script, with the aim of explaining in detail how the main abstractions work and showing how easy it is to partecipate in the challenge. \n",
    "\n",
    "_NOTE_: this notebook is meant as a coding guide to the evaluation script, and a walk-through baseline submission to explain how to partecipate in the challenge. While you're free to experiment with this or other notebooks and even submit to the leaderboard from here, the _final_ submission should comply with the template scripts, as explained in the README.\n",
    "\n",
    "Please contact the organizers on Slack should you have any doubt."
   ]
  },
  {
   "cell_type": "code",
   "execution_count": 1,
   "metadata": {
    "pycharm": {
     "name": "#%%\n"
    }
   },
   "outputs": [],
   "source": [
    "%load_ext autoreload\n",
    "%autoreload 2"
   ]
  },
  {
   "cell_type": "code",
   "execution_count": 2,
   "metadata": {},
   "outputs": [
    {
     "name": "stdout",
     "output_type": "stream",
     "text": [
      "/Users/jacopotagliabue/Documents/repos/evalRS-CIKM-2022/venv/bin/python\r\n"
     ]
    }
   ],
   "source": [
    "# check we are using the right interpreter with the right RecList version\n",
    "!which python"
   ]
  },
  {
   "cell_type": "code",
   "execution_count": 3,
   "metadata": {
    "pycharm": {
     "name": "#%%\n"
    }
   },
   "outputs": [],
   "source": [
    "import os\n",
    "import sys\n",
    "sys.path.insert(0, '../')"
   ]
  },
  {
   "cell_type": "markdown",
   "metadata": {},
   "source": [
    "_Basic imports, read the credentials from the env file_"
   ]
  },
  {
   "cell_type": "code",
   "execution_count": 4,
   "metadata": {
    "pycharm": {
     "name": "#%%\n"
    }
   },
   "outputs": [
    {
     "name": "stdout",
     "output_type": "stream",
     "text": [
      "Submission will be uploaded: True\n",
      "WARNING: only 1000 test cases will be used\n"
     ]
    }
   ],
   "source": [
    "import numpy as np\n",
    "import pandas as pd\n",
    "from dotenv import load_dotenv\n",
    "\n",
    "load_dotenv('../upload.env')\n",
    "\n",
    "EMAIL = os.getenv('EMAIL')  # the e-mail you used to sign up\n",
    "assert EMAIL != '' and EMAIL is not None\n",
    "BUCKET_NAME = os.getenv('BUCKET_NAME') # you received it in your e-mail\n",
    "PARTICIPANT_ID = os.getenv('PARTICIPANT_ID') # you received it in your e-mail\n",
    "AWS_ACCESS_KEY = os.getenv('AWS_ACCESS_KEY') # you received it in your e-mail\n",
    "AWS_SECRET_KEY = os.getenv('AWS_SECRET_KEY') # you received it in your e-mail\n",
    "UPLOAD = bool(os.getenv('UPLOAD'))  # it's a boolean, True if you want to upload your submission\n",
    "LIMIT = int(os.getenv('LIMIT'))  # limit the number of test cases, for quick tests / iterations. 0 for no limit\n",
    "\n",
    "print(\"Submission will be uploaded: {}\".format(UPLOAD))\n",
    "if LIMIT > 0:\n",
    "    print(\"WARNING: only {} test cases will be used\".format(LIMIT))"
   ]
  },
  {
   "cell_type": "markdown",
   "metadata": {},
   "source": [
    "_NOTE: as long as there is a limit specified, the runner won't upload results: make sure to have LIMIT=0 when you want to submit to the leaderboard!_"
   ]
  },
  {
   "cell_type": "code",
   "execution_count": 5,
   "metadata": {
    "pycharm": {
     "name": "#%%\n"
    }
   },
   "outputs": [],
   "source": [
    "from evaluation.EvalRSRunner import EvalRSRunner\n",
    "from evaluation.EvalRSRecList import EvalRSRecList"
   ]
  },
  {
   "cell_type": "markdown",
   "metadata": {},
   "source": [
    "_Declare our model, in this case, a random generator: any model needs to include an implementation of \"predict\", taking user IDs as input and returning a DataFrame with predictions as output._"
   ]
  },
  {
   "cell_type": "code",
   "execution_count": 6,
   "metadata": {
    "pycharm": {
     "name": "#%%\n"
    }
   },
   "outputs": [],
   "source": [
    "from reclist.abstractions import RecModel\n",
    "\n",
    "\n",
    "class RandomModel(RecModel):\n",
    "    \n",
    "    def __init__(self, items: pd.DataFrame):\n",
    "        super(RandomModel, self).__init__()\n",
    "        self.items = items\n",
    "\n",
    "    def predict(self, user_ids: pd.DataFrame, k=10) -> pd.DataFrame:\n",
    "        \"\"\"\n",
    "        \n",
    "        This function takes as input all the users that we want to predict the top-k items for, and \n",
    "        returns all the predicted songs.\n",
    "\n",
    "        While in this example is just a random generator, the same logic in your implementation \n",
    "        would allow for batch predictions of all the target data points.\n",
    "        \n",
    "        \"\"\"\n",
    "        num_users = len(user_ids)\n",
    "        pred = self.items.sample(n=k*num_users, replace=True).index.values\n",
    "        pred = pred.reshape(num_users, k)\n",
    "        pred = np.concatenate((user_ids[['user_id']].values, pred), axis=1)\n",
    "        return pd.DataFrame(pred, columns=['user_id', *[str(i) for i in range(k)]]).set_index('user_id')\n"
   ]
  },
  {
   "cell_type": "markdown",
   "metadata": {},
   "source": [
    "_We inherit from EvalRSRunner, and implement the required method, train_model: train_model encapsulate all your training logic, and should return any model class, wrapping predictions as shown above._\n",
    "\n",
    "RandomEvalRSRunner is the Python object that will run the evaluation loop and provide utility functions to access data assets, tests, and upload results to the leaderboard."
   ]
  },
  {
   "cell_type": "code",
   "execution_count": 7,
   "metadata": {
    "pycharm": {
     "name": "#%%\n"
    }
   },
   "outputs": [],
   "source": [
    "class RandomEvalRSRunner(EvalRSRunner):\n",
    "    def train_model(self, train_df: pd.DataFrame):\n",
    "        \"\"\"\n",
    "        Implement here your training logic. Since our example method is a simple random model,\n",
    "        we actually don't use any training data to build the model, but you should ;-)\n",
    "\n",
    "        At the end of training, you should return a model class that implements the `predict` method,\n",
    "        as RandomModel does.\n",
    "        \"\"\"\n",
    "        return RandomModel(self.df_tracks)"
   ]
  },
  {
   "cell_type": "markdown",
   "metadata": {},
   "source": [
    "_We initiliaze the runner with our credentials_"
   ]
  },
  {
   "cell_type": "code",
   "execution_count": 8,
   "metadata": {
    "pycharm": {
     "name": "#%%\n"
    }
   },
   "outputs": [
    {
     "name": "stdout",
     "output_type": "stream",
     "text": [
      "LFM dataset already downloaded. Skipping download.\n"
     ]
    }
   ],
   "source": [
    "runner = RandomEvalRSRunner(\n",
    "    num_folds=4,\n",
    "    aws_access_key_id=AWS_ACCESS_KEY,\n",
    "    aws_secret_access_key=AWS_SECRET_KEY,\n",
    "    participant_id=PARTICIPANT_ID,\n",
    "    bucket_name=BUCKET_NAME,\n",
    "    email=EMAIL)"
   ]
  },
  {
   "cell_type": "markdown",
   "metadata": {},
   "source": [
    "_Let's inspect the main data assets first_"
   ]
  },
  {
   "cell_type": "code",
   "execution_count": 9,
   "metadata": {},
   "outputs": [
    {
     "data": {
      "text/html": [
       "<div>\n",
       "<style scoped>\n",
       "    .dataframe tbody tr th:only-of-type {\n",
       "        vertical-align: middle;\n",
       "    }\n",
       "\n",
       "    .dataframe tbody tr th {\n",
       "        vertical-align: top;\n",
       "    }\n",
       "\n",
       "    .dataframe thead th {\n",
       "        text-align: right;\n",
       "    }\n",
       "</style>\n",
       "<table border=\"1\" class=\"dataframe\">\n",
       "  <thead>\n",
       "    <tr style=\"text-align: right;\">\n",
       "      <th></th>\n",
       "      <th>track</th>\n",
       "      <th>artist_id</th>\n",
       "      <th>artist</th>\n",
       "      <th>albums_id</th>\n",
       "      <th>albums</th>\n",
       "    </tr>\n",
       "    <tr>\n",
       "      <th>track_id</th>\n",
       "      <th></th>\n",
       "      <th></th>\n",
       "      <th></th>\n",
       "      <th></th>\n",
       "      <th></th>\n",
       "    </tr>\n",
       "  </thead>\n",
       "  <tbody>\n",
       "    <tr>\n",
       "      <th>1</th>\n",
       "      <td>A Matter of Time</td>\n",
       "      <td>3</td>\n",
       "      <td>Foo Fighters</td>\n",
       "      <td>[1, 605875, 67655, 2097]</td>\n",
       "      <td>[Wasting Light, Wasting Light Japan 1st Press ...</td>\n",
       "    </tr>\n",
       "    <tr>\n",
       "      <th>2</th>\n",
       "      <td>Hangar 18</td>\n",
       "      <td>1</td>\n",
       "      <td>Megadeth</td>\n",
       "      <td>[2113, 2, 83531, 17004, 11820, 379470, 440557,...</td>\n",
       "      <td>[Greatest Hits: Back to the Start, Rust In Pea...</td>\n",
       "    </tr>\n",
       "    <tr>\n",
       "      <th>3</th>\n",
       "      <td>Up the Downstair</td>\n",
       "      <td>4</td>\n",
       "      <td>Porcupine Tree</td>\n",
       "      <td>[3, 302086, 354478, 302545, 303154, 116, 84, 3...</td>\n",
       "      <td>[Spiral Circus Live, Stars Die: The Delerium Y...</td>\n",
       "    </tr>\n",
       "    <tr>\n",
       "      <th>4</th>\n",
       "      <td>Mr. Carter (Featuring Jay-Z)</td>\n",
       "      <td>2</td>\n",
       "      <td>Lil Wayne</td>\n",
       "      <td>[4]</td>\n",
       "      <td>[Tha Carter 3]</td>\n",
       "    </tr>\n",
       "    <tr>\n",
       "      <th>5</th>\n",
       "      <td>Mixtaped</td>\n",
       "      <td>5</td>\n",
       "      <td>No-Man</td>\n",
       "      <td>[5]</td>\n",
       "      <td>[Schoolyard Ghosts]</td>\n",
       "    </tr>\n",
       "  </tbody>\n",
       "</table>\n",
       "</div>"
      ],
      "text/plain": [
       "                                 track  artist_id          artist  \\\n",
       "track_id                                                            \n",
       "1                     A Matter of Time          3    Foo Fighters   \n",
       "2                            Hangar 18          1        Megadeth   \n",
       "3                     Up the Downstair          4  Porcupine Tree   \n",
       "4         Mr. Carter (Featuring Jay-Z)          2       Lil Wayne   \n",
       "5                             Mixtaped          5          No-Man   \n",
       "\n",
       "                                                  albums_id  \\\n",
       "track_id                                                      \n",
       "1                                  [1, 605875, 67655, 2097]   \n",
       "2         [2113, 2, 83531, 17004, 11820, 379470, 440557,...   \n",
       "3         [3, 302086, 354478, 302545, 303154, 116, 84, 3...   \n",
       "4                                                       [4]   \n",
       "5                                                       [5]   \n",
       "\n",
       "                                                     albums  \n",
       "track_id                                                     \n",
       "1         [Wasting Light, Wasting Light Japan 1st Press ...  \n",
       "2         [Greatest Hits: Back to the Start, Rust In Pea...  \n",
       "3         [Spiral Circus Live, Stars Die: The Delerium Y...  \n",
       "4                                            [Tha Carter 3]  \n",
       "5                                       [Schoolyard Ghosts]  "
      ]
     },
     "execution_count": 9,
     "metadata": {},
     "output_type": "execute_result"
    }
   ],
   "source": [
    "runner.df_tracks.head()"
   ]
  },
  {
   "cell_type": "code",
   "execution_count": 10,
   "metadata": {},
   "outputs": [
    {
     "data": {
      "text/html": [
       "<div>\n",
       "<style scoped>\n",
       "    .dataframe tbody tr th:only-of-type {\n",
       "        vertical-align: middle;\n",
       "    }\n",
       "\n",
       "    .dataframe tbody tr th {\n",
       "        vertical-align: top;\n",
       "    }\n",
       "\n",
       "    .dataframe thead th {\n",
       "        text-align: right;\n",
       "    }\n",
       "</style>\n",
       "<table border=\"1\" class=\"dataframe\">\n",
       "  <thead>\n",
       "    <tr style=\"text-align: right;\">\n",
       "      <th></th>\n",
       "      <th>user_id</th>\n",
       "      <th>artist_id</th>\n",
       "      <th>album_id</th>\n",
       "      <th>track_id</th>\n",
       "      <th>timestamp</th>\n",
       "    </tr>\n",
       "  </thead>\n",
       "  <tbody>\n",
       "    <tr>\n",
       "      <th>78987589</th>\n",
       "      <td>17521972</td>\n",
       "      <td>3128</td>\n",
       "      <td>16794</td>\n",
       "      <td>21996</td>\n",
       "      <td>1332191855</td>\n",
       "    </tr>\n",
       "    <tr>\n",
       "      <th>98918751</th>\n",
       "      <td>46761744</td>\n",
       "      <td>13037</td>\n",
       "      <td>203461</td>\n",
       "      <td>314233</td>\n",
       "      <td>1325398060</td>\n",
       "    </tr>\n",
       "    <tr>\n",
       "      <th>13600966</th>\n",
       "      <td>5974006</td>\n",
       "      <td>10112</td>\n",
       "      <td>133620</td>\n",
       "      <td>639037</td>\n",
       "      <td>1269897479</td>\n",
       "    </tr>\n",
       "    <tr>\n",
       "      <th>6227197</th>\n",
       "      <td>2402401</td>\n",
       "      <td>40372</td>\n",
       "      <td>451280</td>\n",
       "      <td>607198</td>\n",
       "      <td>1299508575</td>\n",
       "    </tr>\n",
       "    <tr>\n",
       "      <th>15613678</th>\n",
       "      <td>35233465</td>\n",
       "      <td>3765</td>\n",
       "      <td>8082</td>\n",
       "      <td>370549</td>\n",
       "      <td>1386525644</td>\n",
       "    </tr>\n",
       "  </tbody>\n",
       "</table>\n",
       "</div>"
      ],
      "text/plain": [
       "           user_id  artist_id  album_id  track_id   timestamp\n",
       "78987589  17521972       3128     16794     21996  1332191855\n",
       "98918751  46761744      13037    203461    314233  1325398060\n",
       "13600966   5974006      10112    133620    639037  1269897479\n",
       "6227197    2402401      40372    451280    607198  1299508575\n",
       "15613678  35233465       3765      8082    370549  1386525644"
      ]
     },
     "execution_count": 10,
     "metadata": {},
     "output_type": "execute_result"
    }
   ],
   "source": [
    "runner._get_train_set(3).head()"
   ]
  },
  {
   "cell_type": "code",
   "execution_count": 11,
   "metadata": {},
   "outputs": [
    {
     "data": {
      "text/html": [
       "<div>\n",
       "<style scoped>\n",
       "    .dataframe tbody tr th:only-of-type {\n",
       "        vertical-align: middle;\n",
       "    }\n",
       "\n",
       "    .dataframe tbody tr th {\n",
       "        vertical-align: top;\n",
       "    }\n",
       "\n",
       "    .dataframe thead th {\n",
       "        text-align: right;\n",
       "    }\n",
       "</style>\n",
       "<table border=\"1\" class=\"dataframe\">\n",
       "  <thead>\n",
       "    <tr style=\"text-align: right;\">\n",
       "      <th></th>\n",
       "      <th>user_id</th>\n",
       "      <th>country</th>\n",
       "      <th>age</th>\n",
       "      <th>gender</th>\n",
       "      <th>playcount</th>\n",
       "      <th>registered_unixtime</th>\n",
       "      <th>novelty_artist_avg_month</th>\n",
       "      <th>novelty_artist_avg_6months</th>\n",
       "      <th>novelty_artist_avg_year</th>\n",
       "      <th>mainstreaminess_avg_month</th>\n",
       "      <th>...</th>\n",
       "      <th>relative_le_per_hour14</th>\n",
       "      <th>relative_le_per_hour15</th>\n",
       "      <th>relative_le_per_hour16</th>\n",
       "      <th>relative_le_per_hour17</th>\n",
       "      <th>relative_le_per_hour18</th>\n",
       "      <th>relative_le_per_hour19</th>\n",
       "      <th>relative_le_per_hour20</th>\n",
       "      <th>relative_le_per_hour21</th>\n",
       "      <th>relative_le_per_hour22</th>\n",
       "      <th>relative_le_per_hour23</th>\n",
       "    </tr>\n",
       "  </thead>\n",
       "  <tbody>\n",
       "    <tr>\n",
       "      <th>0</th>\n",
       "      <td>384</td>\n",
       "      <td>UK</td>\n",
       "      <td>35</td>\n",
       "      <td>m</td>\n",
       "      <td>42139</td>\n",
       "      <td>1035849600</td>\n",
       "      <td>0.276629</td>\n",
       "      <td>0.044439</td>\n",
       "      <td>0.309429</td>\n",
       "      <td>0.024655</td>\n",
       "      <td>...</td>\n",
       "      <td>0.0279</td>\n",
       "      <td>0.0410</td>\n",
       "      <td>0.0811</td>\n",
       "      <td>0.1506</td>\n",
       "      <td>0.0377</td>\n",
       "      <td>0.0298</td>\n",
       "      <td>0.0132</td>\n",
       "      <td>0.0007</td>\n",
       "      <td>0.0001</td>\n",
       "      <td>0.0151</td>\n",
       "    </tr>\n",
       "    <tr>\n",
       "      <th>1</th>\n",
       "      <td>1206</td>\n",
       "      <td>None</td>\n",
       "      <td>-1</td>\n",
       "      <td>n</td>\n",
       "      <td>33103</td>\n",
       "      <td>1035849600</td>\n",
       "      <td>0.437224</td>\n",
       "      <td>0.109671</td>\n",
       "      <td>0.513787</td>\n",
       "      <td>0.181991</td>\n",
       "      <td>...</td>\n",
       "      <td>0.0016</td>\n",
       "      <td>0.0115</td>\n",
       "      <td>0.0276</td>\n",
       "      <td>0.0662</td>\n",
       "      <td>0.0790</td>\n",
       "      <td>0.0838</td>\n",
       "      <td>0.0995</td>\n",
       "      <td>0.1195</td>\n",
       "      <td>0.0968</td>\n",
       "      <td>0.0839</td>\n",
       "    </tr>\n",
       "    <tr>\n",
       "      <th>2</th>\n",
       "      <td>2622</td>\n",
       "      <td>None</td>\n",
       "      <td>-1</td>\n",
       "      <td>None</td>\n",
       "      <td>2030</td>\n",
       "      <td>1037404800</td>\n",
       "      <td>0.604828</td>\n",
       "      <td>0.043923</td>\n",
       "      <td>0.698983</td>\n",
       "      <td>0.052310</td>\n",
       "      <td>...</td>\n",
       "      <td>0.1320</td>\n",
       "      <td>0.0493</td>\n",
       "      <td>0.0317</td>\n",
       "      <td>0.0470</td>\n",
       "      <td>0.0658</td>\n",
       "      <td>0.1127</td>\n",
       "      <td>0.1112</td>\n",
       "      <td>0.0680</td>\n",
       "      <td>0.0437</td>\n",
       "      <td>0.0254</td>\n",
       "    </tr>\n",
       "    <tr>\n",
       "      <th>3</th>\n",
       "      <td>2732</td>\n",
       "      <td>None</td>\n",
       "      <td>-1</td>\n",
       "      <td>n</td>\n",
       "      <td>147</td>\n",
       "      <td>1037577600</td>\n",
       "      <td>0.756973</td>\n",
       "      <td>0.020071</td>\n",
       "      <td>0.882801</td>\n",
       "      <td>0.005092</td>\n",
       "      <td>...</td>\n",
       "      <td>0.0598</td>\n",
       "      <td>0.0726</td>\n",
       "      <td>0.0171</td>\n",
       "      <td>0.0342</td>\n",
       "      <td>0.0769</td>\n",
       "      <td>0.1453</td>\n",
       "      <td>0.0470</td>\n",
       "      <td>0.0513</td>\n",
       "      <td>0.0085</td>\n",
       "      <td>0.0128</td>\n",
       "    </tr>\n",
       "    <tr>\n",
       "      <th>4</th>\n",
       "      <td>3653</td>\n",
       "      <td>UK</td>\n",
       "      <td>31</td>\n",
       "      <td>m</td>\n",
       "      <td>18504</td>\n",
       "      <td>1041033600</td>\n",
       "      <td>0.380005</td>\n",
       "      <td>0.045207</td>\n",
       "      <td>0.424411</td>\n",
       "      <td>0.042821</td>\n",
       "      <td>...</td>\n",
       "      <td>0.0541</td>\n",
       "      <td>0.0518</td>\n",
       "      <td>0.0564</td>\n",
       "      <td>0.0554</td>\n",
       "      <td>0.0849</td>\n",
       "      <td>0.0954</td>\n",
       "      <td>0.0833</td>\n",
       "      <td>0.0657</td>\n",
       "      <td>0.0471</td>\n",
       "      <td>0.0595</td>\n",
       "    </tr>\n",
       "  </tbody>\n",
       "</table>\n",
       "<p>5 rows × 48 columns</p>\n",
       "</div>"
      ],
      "text/plain": [
       "   user_id country  age gender  playcount  registered_unixtime  \\\n",
       "0      384      UK   35      m      42139           1035849600   \n",
       "1     1206    None   -1      n      33103           1035849600   \n",
       "2     2622    None   -1   None       2030           1037404800   \n",
       "3     2732    None   -1      n        147           1037577600   \n",
       "4     3653      UK   31      m      18504           1041033600   \n",
       "\n",
       "   novelty_artist_avg_month  novelty_artist_avg_6months  \\\n",
       "0                  0.276629                    0.044439   \n",
       "1                  0.437224                    0.109671   \n",
       "2                  0.604828                    0.043923   \n",
       "3                  0.756973                    0.020071   \n",
       "4                  0.380005                    0.045207   \n",
       "\n",
       "   novelty_artist_avg_year  mainstreaminess_avg_month  ...  \\\n",
       "0                 0.309429                   0.024655  ...   \n",
       "1                 0.513787                   0.181991  ...   \n",
       "2                 0.698983                   0.052310  ...   \n",
       "3                 0.882801                   0.005092  ...   \n",
       "4                 0.424411                   0.042821  ...   \n",
       "\n",
       "   relative_le_per_hour14  relative_le_per_hour15  relative_le_per_hour16  \\\n",
       "0                  0.0279                  0.0410                  0.0811   \n",
       "1                  0.0016                  0.0115                  0.0276   \n",
       "2                  0.1320                  0.0493                  0.0317   \n",
       "3                  0.0598                  0.0726                  0.0171   \n",
       "4                  0.0541                  0.0518                  0.0564   \n",
       "\n",
       "   relative_le_per_hour17  relative_le_per_hour18  relative_le_per_hour19  \\\n",
       "0                  0.1506                  0.0377                  0.0298   \n",
       "1                  0.0662                  0.0790                  0.0838   \n",
       "2                  0.0470                  0.0658                  0.1127   \n",
       "3                  0.0342                  0.0769                  0.1453   \n",
       "4                  0.0554                  0.0849                  0.0954   \n",
       "\n",
       "   relative_le_per_hour20  relative_le_per_hour21  relative_le_per_hour22  \\\n",
       "0                  0.0132                  0.0007                  0.0001   \n",
       "1                  0.0995                  0.1195                  0.0968   \n",
       "2                  0.1112                  0.0680                  0.0437   \n",
       "3                  0.0470                  0.0513                  0.0085   \n",
       "4                  0.0833                  0.0657                  0.0471   \n",
       "\n",
       "   relative_le_per_hour23  \n",
       "0                  0.0151  \n",
       "1                  0.0839  \n",
       "2                  0.0254  \n",
       "3                  0.0128  \n",
       "4                  0.0595  \n",
       "\n",
       "[5 rows x 48 columns]"
      ]
     },
     "execution_count": 11,
     "metadata": {},
     "output_type": "execute_result"
    }
   ],
   "source": [
    "runner.df_users.head()"
   ]
  },
  {
   "cell_type": "markdown",
   "metadata": {},
   "source": [
    "_Finally, we run the evaluation code_"
   ]
  },
  {
   "cell_type": "code",
   "execution_count": 12,
   "metadata": {
    "pycharm": {
     "name": "#%%\n"
    }
   },
   "outputs": [
    {
     "name": "stdout",
     "output_type": "stream",
     "text": [
      "WARNING : LIMITING TEST EVENTS TO 1000 EVENTS ONLY - upload disable\n",
      "\n",
      "Performing Training for fold 1/4...\n",
      "Performing Evaluation for fold 1/4...\n",
      "WARNING : LIMITING TEST EVENTS TO 1000 EVENTS ONLY\n",
      "============= TEST RESULTS ===============\n",
      "Test Type        : stats\n",
      "Test Description : \n",
      "Test Result      : {'num_users': 926, 'max_items': 5, 'min_items': 1}\n",
      "\n",
      "============= TEST RESULTS ===============\n",
      "Test Type        : HIT_RATE\n",
      "Test Description : \n",
      "Test Result      : 0.0\n",
      "\n",
      "Generating reports at 2022-07-24 15:42:30.370623\n",
      "\n",
      "Performing Training for fold 2/4...\n",
      "Performing Evaluation for fold 2/4...\n",
      "WARNING : LIMITING TEST EVENTS TO 1000 EVENTS ONLY\n",
      "============= TEST RESULTS ===============\n",
      "Test Type        : stats\n",
      "Test Description : \n",
      "Test Result      : {'num_users': 923, 'max_items': 3, 'min_items': 1}\n",
      "\n",
      "============= TEST RESULTS ===============\n",
      "Test Type        : HIT_RATE\n",
      "Test Description : \n",
      "Test Result      : 0.0\n",
      "\n",
      "Generating reports at 2022-07-24 15:42:53.390374\n",
      "\n",
      "Performing Training for fold 3/4...\n",
      "Performing Evaluation for fold 3/4...\n",
      "WARNING : LIMITING TEST EVENTS TO 1000 EVENTS ONLY\n",
      "============= TEST RESULTS ===============\n",
      "Test Type        : stats\n",
      "Test Description : \n",
      "Test Result      : {'num_users': 937, 'max_items': 3, 'min_items': 1}\n",
      "\n",
      "============= TEST RESULTS ===============\n",
      "Test Type        : HIT_RATE\n",
      "Test Description : \n",
      "Test Result      : 0.0\n",
      "\n",
      "Generating reports at 2022-07-24 15:43:18.858224\n",
      "\n",
      "Performing Training for fold 4/4...\n",
      "Performing Evaluation for fold 4/4...\n",
      "WARNING : LIMITING TEST EVENTS TO 1000 EVENTS ONLY\n",
      "============= TEST RESULTS ===============\n",
      "Test Type        : stats\n",
      "Test Description : \n",
      "Test Result      : {'num_users': 925, 'max_items': 3, 'min_items': 1}\n",
      "\n",
      "============= TEST RESULTS ===============\n",
      "Test Type        : HIT_RATE\n",
      "Test Description : \n",
      "Test Result      : 0.0\n",
      "\n",
      "Generating reports at 2022-07-24 15:43:42.053753\n",
      "SUBMISSION RESULTS SAVE TO jacopo.tagliabue_tooso.ai_16586774220752.json\n"
     ]
    }
   ],
   "source": [
    "runner.evaluate(upload=UPLOAD, limit=LIMIT)"
   ]
  },
  {
   "cell_type": "markdown",
   "metadata": {},
   "source": [
    "### Customizing RecList\n",
    "\n",
    "A huge motivation behind the Challenge is building as a community shareable insights in the form of working tests for our use case.\n",
    "\n",
    "While your leaderboard score is ONLY influenced by the official tests as stated in the evaluation README, we encourage your final submissions to also include custom tests that you found helpful / insightful when improving your model.\n",
    "\n",
    "The snippet below shows a working example of how to _extend_ the default RecList with additional tests, and run the evaluation code."
   ]
  },
  {
   "cell_type": "code",
   "execution_count": 15,
   "metadata": {},
   "outputs": [],
   "source": [
    "from reclist.abstractions import rec_test\n",
    "\n",
    "class myRecList(EvalRSRecList):\n",
    "    \n",
    "    @rec_test(test_type='custom_test')\n",
    "    def lucky_user_test(self):\n",
    "        \"\"\"\n",
    "        Custom test, returning my lucky user from the catalog\n",
    "        \"\"\"\n",
    "        from random import choice\n",
    "\n",
    "        return {\n",
    "          \"luck_user\": str(choice(self._x_test['user_id'].unique())) \n",
    "        }\n"
   ]
  },
  {
   "cell_type": "markdown",
   "metadata": {},
   "source": [
    "_Re-run the evaluation with the additional test, which gets executed together with the default ones that produce the leaderboard score._"
   ]
  },
  {
   "cell_type": "code",
   "execution_count": 16,
   "metadata": {},
   "outputs": [
    {
     "name": "stdout",
     "output_type": "stream",
     "text": [
      "WARNING : LIMITING TEST EVENTS TO 1000 EVENTS ONLY - upload disable\n",
      "\n",
      "Performing Training for fold 1/4...\n",
      "Performing Evaluation for fold 1/4...\n",
      "WARNING : LIMITING TEST EVENTS TO 1000 EVENTS ONLY\n",
      "============= TEST RESULTS ===============\n",
      "Test Type        : custom_test\n",
      "Test Description : Custom test, returning my lucky user from the catalog\n",
      "Test Result      : {'luck_user': '36668664'}\n",
      "\n",
      "============= TEST RESULTS ===============\n",
      "Test Type        : stats\n",
      "Test Description : \n",
      "Test Result      : {'num_users': 926, 'max_items': 5, 'min_items': 1}\n",
      "\n",
      "============= TEST RESULTS ===============\n",
      "Test Type        : HIT_RATE\n",
      "Test Description : \n",
      "Test Result      : 0.0\n",
      "\n",
      "Generating reports at 2022-07-24 15:45:17.131382\n",
      "\n",
      "Performing Training for fold 2/4...\n",
      "Performing Evaluation for fold 2/4...\n",
      "WARNING : LIMITING TEST EVENTS TO 1000 EVENTS ONLY\n",
      "============= TEST RESULTS ===============\n",
      "Test Type        : custom_test\n",
      "Test Description : Custom test, returning my lucky user from the catalog\n",
      "Test Result      : {'luck_user': '16125937'}\n",
      "\n",
      "============= TEST RESULTS ===============\n",
      "Test Type        : stats\n",
      "Test Description : \n",
      "Test Result      : {'num_users': 923, 'max_items': 3, 'min_items': 1}\n",
      "\n",
      "============= TEST RESULTS ===============\n",
      "Test Type        : HIT_RATE\n",
      "Test Description : \n",
      "Test Result      : 0.0\n",
      "\n",
      "Generating reports at 2022-07-24 15:45:45.638564\n",
      "\n",
      "Performing Training for fold 3/4...\n",
      "Performing Evaluation for fold 3/4...\n",
      "WARNING : LIMITING TEST EVENTS TO 1000 EVENTS ONLY\n",
      "============= TEST RESULTS ===============\n",
      "Test Type        : custom_test\n",
      "Test Description : Custom test, returning my lucky user from the catalog\n",
      "Test Result      : {'luck_user': '6460474'}\n",
      "\n",
      "============= TEST RESULTS ===============\n",
      "Test Type        : stats\n",
      "Test Description : \n",
      "Test Result      : {'num_users': 937, 'max_items': 3, 'min_items': 1}\n",
      "\n",
      "============= TEST RESULTS ===============\n",
      "Test Type        : HIT_RATE\n",
      "Test Description : \n",
      "Test Result      : 0.0\n",
      "\n",
      "Generating reports at 2022-07-24 15:46:15.646223\n",
      "\n",
      "Performing Training for fold 4/4...\n",
      "Performing Evaluation for fold 4/4...\n",
      "WARNING : LIMITING TEST EVENTS TO 1000 EVENTS ONLY\n",
      "============= TEST RESULTS ===============\n",
      "Test Type        : custom_test\n",
      "Test Description : Custom test, returning my lucky user from the catalog\n",
      "Test Result      : {'luck_user': '36332371'}\n",
      "\n",
      "============= TEST RESULTS ===============\n",
      "Test Type        : stats\n",
      "Test Description : \n",
      "Test Result      : {'num_users': 925, 'max_items': 3, 'min_items': 1}\n",
      "\n",
      "============= TEST RESULTS ===============\n",
      "Test Type        : HIT_RATE\n",
      "Test Description : \n",
      "Test Result      : 0.0\n",
      "\n",
      "Generating reports at 2022-07-24 15:46:47.976985\n",
      "SUBMISSION RESULTS SAVE TO jacopo.tagliabue_tooso.ai_16586776079965.json\n"
     ]
    }
   ],
   "source": [
    "runner.evaluate(upload=UPLOAD, limit=LIMIT, custom_RecList=myRecList)"
   ]
  },
  {
   "cell_type": "markdown",
   "metadata": {
    "pycharm": {
     "name": "#%%\n"
    }
   },
   "source": [
    "### Final submission to the committee\n",
    "\n",
    "Since this is a code competition, you'll be required to submit your repository for statistical verification of your scores. \n",
    "\n",
    "Please consult the README carefully to make sure your project complies with the rules and follows the provided template script."
   ]
  },
  {
   "cell_type": "code",
   "execution_count": null,
   "metadata": {},
   "outputs": [],
   "source": []
  },
  {
   "cell_type": "code",
   "execution_count": null,
   "metadata": {},
   "outputs": [],
   "source": []
  }
 ],
 "metadata": {
  "kernelspec": {
   "display_name": "Python 3 (ipykernel)",
   "language": "python",
   "name": "python3"
  },
  "language_info": {
   "codemirror_mode": {
    "name": "ipython",
    "version": 3
   },
   "file_extension": ".py",
   "mimetype": "text/x-python",
   "name": "python",
   "nbconvert_exporter": "python",
   "pygments_lexer": "ipython3",
   "version": "3.8.8"
  }
 },
 "nbformat": 4,
 "nbformat_minor": 1
}
