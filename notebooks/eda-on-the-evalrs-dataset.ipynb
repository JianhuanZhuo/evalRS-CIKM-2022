{
 "cells": [
  {
   "cell_type": "markdown",
   "metadata": {
    "id": "nkF_4ePZHNzg"
   },
   "source": [
    "# Exploring the EvalRS dataset\n",
    "\n",
    "This notebook provides some basic EDA on the dataset of the [EvalRS](https://reclist.io/cikm2022-cup/) challenge.\n",
    "Please refer to [our paper](https://arxiv.org/abs/2207.05772) for all the details.\n",
    "\n",
    "With the goal of building a *all-around* recommender system, we likely want to understand how users, tracks and listening events are distributed, with a special case to *long tails* and rare (or new events). Yeah, you can thank us for the tip later.\n",
    "\n",
    "Before we start, we need to clone the official repository and run a few setup steps and imports."
   ]
  },
  {
   "cell_type": "code",
   "execution_count": 1,
   "metadata": {
    "execution": {
     "iopub.execute_input": "2022-08-04T18:34:13.645302Z",
     "iopub.status.busy": "2022-08-04T18:34:13.644435Z",
     "iopub.status.idle": "2022-08-04T18:35:00.150666Z",
     "shell.execute_reply": "2022-08-04T18:35:00.148978Z",
     "shell.execute_reply.started": "2022-08-04T18:34:13.645133Z"
    },
    "id": "dljiNmSJjr-u"
   },
   "outputs": [],
   "source": [
    "%%capture\n",
    "!git clone https://github.com/RecList/evalRS-CIKM-2022\n",
    "!pip install -r evalRS-CIKM-2022/requirements.txt"
   ]
  },
  {
   "cell_type": "code",
   "execution_count": 1,
   "metadata": {
    "id": "Mv-L2X8Fj0fw",
    "tags": []
   },
   "outputs": [],
   "source": [
    "import sys\n",
    "if \"./evalRS-CIKM-2022\" not in sys.path:\n",
    "    sys.path.append(\"./evalRS-CIKM-2022\")"
   ]
  },
  {
   "cell_type": "code",
   "execution_count": 2,
   "metadata": {
    "id": "_-FxCXfaoFNU",
    "tags": []
   },
   "outputs": [
    {
     "name": "stderr",
     "output_type": "stream",
     "text": [
      "/home/attanasiog/miniconda3/envs/evalrs/lib/python3.8/site-packages/scipy/__init__.py:146: UserWarning: A NumPy version >=1.16.5 and <1.23.0 is required for this version of SciPy (detected version 1.23.1\n",
      "  warnings.warn(f\"A NumPy version >={np_minversion} and <{np_maxversion}\"\n"
     ]
    }
   ],
   "source": [
    "from evaluation.EvalRSRunner import ChallengeDataset\n",
    "\n",
    "import gc\n",
    "import pandas as pd\n",
    "import numpy as np\n",
    "import os\n",
    "import matplotlib.pyplot as plt\n",
    "import seaborn as sns\n",
    "sns.set_theme(\"notebook\")"
   ]
  },
  {
   "cell_type": "markdown",
   "metadata": {},
   "source": [
    "Next, we have to download the dataset (~600MB) -- actually, you'll download it just the first time!"
   ]
  },
  {
   "cell_type": "code",
   "execution_count": 3,
   "metadata": {
    "id": "hij5x-hOoHKx",
    "outputId": "857b78b1-e056-4836-8442-877deb0e721f"
   },
   "outputs": [
    {
     "name": "stdout",
     "output_type": "stream",
     "text": [
      "LFM dataset already downloaded. Skipping download.\n",
      "Loading dataset.\n",
      "Generating folds.\n",
      "Generating dataset hashes.\n"
     ]
    }
   ],
   "source": [
    "dataset = ChallengeDataset()"
   ]
  },
  {
   "cell_type": "markdown",
   "metadata": {},
   "source": [
    "And get a sample fold (see details on our Bootstrapping Cross-Validation evaluation strategy to know more about folds)."
   ]
  },
  {
   "cell_type": "code",
   "execution_count": 4,
   "metadata": {
    "id": "K-UJp05VoJVD",
    "outputId": "6d6f97fc-dcf8-4904-86b5-5d6853945ac0"
   },
   "outputs": [
    {
     "data": {
      "text/plain": [
       "((6907029, 6), (29736, 2))"
      ]
     },
     "execution_count": 4,
     "metadata": {},
     "output_type": "execute_result"
    }
   ],
   "source": [
    "train, test = dataset.get_sample_train_test()\n",
    "train.shape, test.shape"
   ]
  },
  {
   "cell_type": "code",
   "execution_count": 5,
   "metadata": {
    "id": "n5z3WQ1iQF_Z",
    "outputId": "71918ba2-f965-44fd-9068-7bd28cec7d53"
   },
   "outputs": [
    {
     "name": "stdout",
     "output_type": "stream",
     "text": [
      "<class 'pandas.core.frame.DataFrame'>\n",
      "Int64Index: 6907029 entries, 2571 to 1052853902\n",
      "Data columns (total 6 columns):\n",
      " #   Column            Dtype\n",
      "---  ------            -----\n",
      " 0   user_id           int32\n",
      " 1   artist_id         int32\n",
      " 2   album_id          int32\n",
      " 3   track_id          int32\n",
      " 4   timestamp         int32\n",
      " 5   user_track_count  int32\n",
      "dtypes: int32(6)\n",
      "memory usage: 210.8 MB\n"
     ]
    }
   ],
   "source": [
    "train.info()"
   ]
  },
  {
   "cell_type": "markdown",
   "metadata": {},
   "source": [
    "So. We have ~7M training listening records. Each tells us who (*user_id*) listened to what (*track_it*), when (*timestamp*), and how many times (*user_track_count*).\n",
    "\n",
    "Let's now run some preprocessing to get started."
   ]
  },
  {
   "cell_type": "code",
   "execution_count": 6,
   "metadata": {},
   "outputs": [],
   "source": [
    "# convert the timestamp in a more convenient format\n",
    "train[\"timestamp\"] = pd.to_datetime(train[\"timestamp\"], unit=\"s\")"
   ]
  },
  {
   "cell_type": "code",
   "execution_count": 7,
   "metadata": {},
   "outputs": [],
   "source": [
    "# add a column for Hour Of the Day\n",
    "train[\"hod\"] = train[\"timestamp\"].dt.hour"
   ]
  },
  {
   "cell_type": "markdown",
   "metadata": {},
   "source": [
    "We are ready to do some EDA."
   ]
  },
  {
   "cell_type": "markdown",
   "metadata": {
    "id": "yxlmpAMSQAYD"
   },
   "source": [
    "## EDA on Tracks\n",
    "\n",
    "Let's begin with a few statistics about tracks. We can inspect how many *unique* tracks are there! "
   ]
  },
  {
   "cell_type": "code",
   "execution_count": 8,
   "metadata": {},
   "outputs": [],
   "source": [
    "percentiles = np.arange(1, step=0.1)\n",
    "gb_track = train.groupby(\"track_id\")"
   ]
  },
  {
   "cell_type": "markdown",
   "metadata": {},
   "source": [
    "**Q0: what's the Track distribution?**"
   ]
  },
  {
   "cell_type": "code",
   "execution_count": 9,
   "metadata": {},
   "outputs": [
    {
     "data": {
      "text/plain": [
       "count    227902.000000\n",
       "mean         30.307014\n",
       "std          42.163078\n",
       "min           8.000000\n",
       "0%            8.000000\n",
       "10%          10.000000\n",
       "20%          12.000000\n",
       "30%          13.000000\n",
       "40%          15.000000\n",
       "50%          17.000000\n",
       "60%          21.000000\n",
       "70%          27.000000\n",
       "80%          36.000000\n",
       "90%          59.000000\n",
       "max        1597.000000\n",
       "dtype: float64"
      ]
     },
     "execution_count": 9,
     "metadata": {},
     "output_type": "execute_result"
    }
   ],
   "source": [
    "track_records = gb_track.size()\n",
    "track_records.describe(percentiles)"
   ]
  },
  {
   "cell_type": "markdown",
   "metadata": {},
   "source": [
    "There are ~230K distinct tracks. But wait. We know there is a `timestamp` feature, does that mean that a user can play the same track multiple times? Programmatically, we should check if the pair <`user`,`track`> does appear multiple times."
   ]
  },
  {
   "cell_type": "code",
   "execution_count": 10,
   "metadata": {},
   "outputs": [
    {
     "data": {
      "text/plain": [
       "True"
      ]
     },
     "execution_count": 10,
     "metadata": {},
     "output_type": "execute_result"
    }
   ],
   "source": [
    "len(train.groupby([\"user_id\", \"track_id\"]).size()) == train.shape[0]"
   ]
  },
  {
   "cell_type": "code",
   "execution_count": 11,
   "metadata": {},
   "outputs": [
    {
     "data": {
      "text/html": [
       "<div>\n",
       "<style scoped>\n",
       "    .dataframe tbody tr th:only-of-type {\n",
       "        vertical-align: middle;\n",
       "    }\n",
       "\n",
       "    .dataframe tbody tr th {\n",
       "        vertical-align: top;\n",
       "    }\n",
       "\n",
       "    .dataframe thead th {\n",
       "        text-align: right;\n",
       "    }\n",
       "</style>\n",
       "<table border=\"1\" class=\"dataframe\">\n",
       "  <thead>\n",
       "    <tr style=\"text-align: right;\">\n",
       "      <th></th>\n",
       "      <th>user_id</th>\n",
       "      <th>artist_id</th>\n",
       "      <th>album_id</th>\n",
       "      <th>track_id</th>\n",
       "      <th>timestamp</th>\n",
       "      <th>user_track_count</th>\n",
       "      <th>hod</th>\n",
       "    </tr>\n",
       "  </thead>\n",
       "  <tbody>\n",
       "    <tr>\n",
       "      <th>2571</th>\n",
       "      <td>21072247</td>\n",
       "      <td>15</td>\n",
       "      <td>19</td>\n",
       "      <td>22</td>\n",
       "      <td>2013-07-21 22:23:39</td>\n",
       "      <td>5</td>\n",
       "      <td>22</td>\n",
       "    </tr>\n",
       "    <tr>\n",
       "      <th>2574</th>\n",
       "      <td>21072247</td>\n",
       "      <td>15</td>\n",
       "      <td>19</td>\n",
       "      <td>25</td>\n",
       "      <td>2013-07-23 11:41:47</td>\n",
       "      <td>3</td>\n",
       "      <td>11</td>\n",
       "    </tr>\n",
       "    <tr>\n",
       "      <th>2583</th>\n",
       "      <td>21072247</td>\n",
       "      <td>15</td>\n",
       "      <td>123</td>\n",
       "      <td>26</td>\n",
       "      <td>2012-10-28 10:15:18</td>\n",
       "      <td>9</td>\n",
       "      <td>10</td>\n",
       "    </tr>\n",
       "    <tr>\n",
       "      <th>2592</th>\n",
       "      <td>21072247</td>\n",
       "      <td>15</td>\n",
       "      <td>19</td>\n",
       "      <td>30</td>\n",
       "      <td>2013-07-21 22:16:08</td>\n",
       "      <td>4</td>\n",
       "      <td>22</td>\n",
       "    </tr>\n",
       "    <tr>\n",
       "      <th>2599</th>\n",
       "      <td>21072247</td>\n",
       "      <td>15</td>\n",
       "      <td>19</td>\n",
       "      <td>31</td>\n",
       "      <td>2013-07-21 13:23:31</td>\n",
       "      <td>7</td>\n",
       "      <td>13</td>\n",
       "    </tr>\n",
       "  </tbody>\n",
       "</table>\n",
       "</div>"
      ],
      "text/plain": [
       "       user_id  artist_id  album_id  track_id           timestamp  \\\n",
       "2571  21072247         15        19        22 2013-07-21 22:23:39   \n",
       "2574  21072247         15        19        25 2013-07-23 11:41:47   \n",
       "2583  21072247         15       123        26 2012-10-28 10:15:18   \n",
       "2592  21072247         15        19        30 2013-07-21 22:16:08   \n",
       "2599  21072247         15        19        31 2013-07-21 13:23:31   \n",
       "\n",
       "      user_track_count  hod  \n",
       "2571                 5   22  \n",
       "2574                 3   11  \n",
       "2583                 9   10  \n",
       "2592                 4   22  \n",
       "2599                 7   13  "
      ]
     },
     "execution_count": 11,
     "metadata": {},
     "output_type": "execute_result"
    }
   ],
   "source": [
    "train.head()"
   ]
  },
  {
   "cell_type": "markdown",
   "metadata": {},
   "source": [
    "The two sizes correspond: we can assume there are no <`user`,`track`> duplicates. Indeed, the `user_track_count` value lets us know the play count!\n",
    "\n",
    "We also obtained a new information: `track_records` contains the number of distinct users that played a given track. Let's now observe the distribution graphically."
   ]
  },
  {
   "cell_type": "code",
   "execution_count": 12,
   "metadata": {},
   "outputs": [
    {
     "data": {
      "text/plain": [
       "Text(0, 0.5, 'Track Count (log)')"
      ]
     },
     "execution_count": 12,
     "metadata": {},
     "output_type": "execute_result"
    },
    {
     "data": {
      "image/png": "[encoded data removed]",
      "text/plain": [
       "<Figure size 864x576 with 1 Axes>"
      ]
     },
     "metadata": {},
     "output_type": "display_data"
    }
   ],
   "source": [
    "fig, ax = plt.subplots(figsize=(12,8))\n",
    "ax.hist(track_records)\n",
    "ax.set_yscale(\"log\")\n",
    "ax.set_xlabel(\"Distinct Users\")\n",
    "ax.set_ylabel(\"Track Count (log)\")"
   ]
  },
  {
   "cell_type": "markdown",
   "metadata": {},
   "source": [
    "Let's look at the distribution in percentiles again. "
   ]
  },
  {
   "cell_type": "code",
   "execution_count": 13,
   "metadata": {
    "id": "nQk3NbVYpsE2",
    "outputId": "1bd40fd4-a366-43da-e316-6449648beca0"
   },
   "outputs": [
    {
     "data": {
      "text/plain": [
       "count    227902.000000\n",
       "mean         30.307014\n",
       "std          42.163078\n",
       "min           8.000000\n",
       "0%            8.000000\n",
       "10%          10.000000\n",
       "20%          12.000000\n",
       "30%          13.000000\n",
       "40%          15.000000\n",
       "50%          17.000000\n",
       "60%          21.000000\n",
       "70%          27.000000\n",
       "80%          36.000000\n",
       "90%          59.000000\n",
       "max        1597.000000\n",
       "dtype: float64"
      ]
     },
     "execution_count": 13,
     "metadata": {},
     "output_type": "execute_result"
    }
   ],
   "source": [
    "track_records.describe(percentiles)"
   ]
  },
  {
   "cell_type": "markdown",
   "metadata": {},
   "source": [
    "Tracks are listened by 30 distinct users on the average, and that 90% of them has less than 58 distinct users that played it. Further, there are some outliers: the maximum number of users is ~1600. Is this a very popular track or a dataset artifact? Let's find out.   "
   ]
  },
  {
   "cell_type": "code",
   "execution_count": 14,
   "metadata": {},
   "outputs": [
    {
     "data": {
      "text/html": [
       "<div>\n",
       "<style scoped>\n",
       "    .dataframe tbody tr th:only-of-type {\n",
       "        vertical-align: middle;\n",
       "    }\n",
       "\n",
       "    .dataframe tbody tr th {\n",
       "        vertical-align: top;\n",
       "    }\n",
       "\n",
       "    .dataframe thead th {\n",
       "        text-align: right;\n",
       "    }\n",
       "</style>\n",
       "<table border=\"1\" class=\"dataframe\">\n",
       "  <thead>\n",
       "    <tr style=\"text-align: right;\">\n",
       "      <th></th>\n",
       "      <th>track</th>\n",
       "      <th>artist_id</th>\n",
       "      <th>artist</th>\n",
       "      <th>albums_id</th>\n",
       "      <th>albums</th>\n",
       "      <th>distinct_user_count</th>\n",
       "    </tr>\n",
       "    <tr>\n",
       "      <th>track_id</th>\n",
       "      <th></th>\n",
       "      <th></th>\n",
       "      <th></th>\n",
       "      <th></th>\n",
       "      <th></th>\n",
       "      <th></th>\n",
       "    </tr>\n",
       "  </thead>\n",
       "  <tbody>\n",
       "    <tr>\n",
       "      <th>4868</th>\n",
       "      <td>Rolling in the Deep</td>\n",
       "      <td>504</td>\n",
       "      <td>Adele</td>\n",
       "      <td>[1518, 18942, 64876, 66600, 80986, 93573, 9761...</td>\n",
       "      <td>['21', '19', '21 (Deluxe Edition)', 'monday_pl...</td>\n",
       "      <td>1597</td>\n",
       "    </tr>\n",
       "    <tr>\n",
       "      <th>26142</th>\n",
       "      <td>We Are Young (feat. Janelle Monáe)</td>\n",
       "      <td>3151</td>\n",
       "      <td>fun.</td>\n",
       "      <td>[6907, 9619, 53139, 162664, 238945, 246098, 27...</td>\n",
       "      <td>['Some Nights', 'We Are Young', nan, 'The Best...</td>\n",
       "      <td>1484</td>\n",
       "    </tr>\n",
       "    <tr>\n",
       "      <th>11393952</th>\n",
       "      <td>Somebody That I Used to Know</td>\n",
       "      <td>3085</td>\n",
       "      <td>Gotye</td>\n",
       "      <td>[20107, 33321, 90034, 103479, 107493, 158828, ...</td>\n",
       "      <td>['Making Mirrors (Deluxe Edition)', 'Somebody ...</td>\n",
       "      <td>1451</td>\n",
       "    </tr>\n",
       "    <tr>\n",
       "      <th>16110</th>\n",
       "      <td>Get Lucky (feat. Pharrell Williams)</td>\n",
       "      <td>320</td>\n",
       "      <td>Daft Punk</td>\n",
       "      <td>[5331, 10200, 11728, 40809, 84112, 95892, 1237...</td>\n",
       "      <td>['Random Access Memories', 'Get Lucky', 'Homew...</td>\n",
       "      <td>1391</td>\n",
       "    </tr>\n",
       "    <tr>\n",
       "      <th>14034</th>\n",
       "      <td>We Found Love (feat. Calvin Harris)</td>\n",
       "      <td>355</td>\n",
       "      <td>Rihanna</td>\n",
       "      <td>[4961, 6808, 14253, 18206, 18254, 19802, 40014...</td>\n",
       "      <td>['We Found Love', 'The Official Uk Top 40 Sing...</td>\n",
       "      <td>1242</td>\n",
       "    </tr>\n",
       "    <tr>\n",
       "      <th>51176</th>\n",
       "      <td>Titanium (feat. Sia)</td>\n",
       "      <td>1935</td>\n",
       "      <td>David Guetta</td>\n",
       "      <td>[16065, 18345, 18845, 32658, 40236, 80698, 875...</td>\n",
       "      <td>['Best of...', 'Nothing but the Beat 2.0', 'No...</td>\n",
       "      <td>1108</td>\n",
       "    </tr>\n",
       "    <tr>\n",
       "      <th>28847</th>\n",
       "      <td>Get Lucky (Radio Edit) [feat. Pharrell Williams]</td>\n",
       "      <td>320</td>\n",
       "      <td>Daft Punk</td>\n",
       "      <td>[10200, 19277, 136209, 188202, 269754, 361728,...</td>\n",
       "      <td>['Get Lucky', nan, 'Random Access Memories', '...</td>\n",
       "      <td>1100</td>\n",
       "    </tr>\n",
       "    <tr>\n",
       "      <th>572665</th>\n",
       "      <td>Set Fire to the Rain</td>\n",
       "      <td>504</td>\n",
       "      <td>Adele</td>\n",
       "      <td>[1518, 64876, 93573, 98525, 116649, 143113, 14...</td>\n",
       "      <td>['21', '21 (Deluxe Edition)', 'Rolling in the ...</td>\n",
       "      <td>1068</td>\n",
       "    </tr>\n",
       "    <tr>\n",
       "      <th>14775</th>\n",
       "      <td>Give Life Back to Music</td>\n",
       "      <td>320</td>\n",
       "      <td>Daft Punk</td>\n",
       "      <td>[5331, 95892, 136209, 167688, 429072, 472207, ...</td>\n",
       "      <td>['Random Access Memories', 'Random Access Memo...</td>\n",
       "      <td>1029</td>\n",
       "    </tr>\n",
       "    <tr>\n",
       "      <th>29375</th>\n",
       "      <td>Lights</td>\n",
       "      <td>4091</td>\n",
       "      <td>Ellie Goulding</td>\n",
       "      <td>[9086, 9174, 10388, 10389, 12804, 19124, 35773...</td>\n",
       "      <td>['Halcyon (Deluxe Edition)', 'Halcyon Days', '...</td>\n",
       "      <td>1002</td>\n",
       "    </tr>\n",
       "  </tbody>\n",
       "</table>\n",
       "</div>"
      ],
      "text/plain": [
       "                                                     track  artist_id  \\\n",
       "track_id                                                                \n",
       "4868                                   Rolling in the Deep        504   \n",
       "26142                   We Are Young (feat. Janelle Monáe)       3151   \n",
       "11393952                      Somebody That I Used to Know       3085   \n",
       "16110                  Get Lucky (feat. Pharrell Williams)        320   \n",
       "14034                  We Found Love (feat. Calvin Harris)        355   \n",
       "51176                                 Titanium (feat. Sia)       1935   \n",
       "28847     Get Lucky (Radio Edit) [feat. Pharrell Williams]        320   \n",
       "572665                                Set Fire to the Rain        504   \n",
       "14775                              Give Life Back to Music        320   \n",
       "29375                                               Lights       4091   \n",
       "\n",
       "                  artist                                          albums_id  \\\n",
       "track_id                                                                      \n",
       "4868               Adele  [1518, 18942, 64876, 66600, 80986, 93573, 9761...   \n",
       "26142               fun.  [6907, 9619, 53139, 162664, 238945, 246098, 27...   \n",
       "11393952           Gotye  [20107, 33321, 90034, 103479, 107493, 158828, ...   \n",
       "16110          Daft Punk  [5331, 10200, 11728, 40809, 84112, 95892, 1237...   \n",
       "14034            Rihanna  [4961, 6808, 14253, 18206, 18254, 19802, 40014...   \n",
       "51176       David Guetta  [16065, 18345, 18845, 32658, 40236, 80698, 875...   \n",
       "28847          Daft Punk  [10200, 19277, 136209, 188202, 269754, 361728,...   \n",
       "572665             Adele  [1518, 64876, 93573, 98525, 116649, 143113, 14...   \n",
       "14775          Daft Punk  [5331, 95892, 136209, 167688, 429072, 472207, ...   \n",
       "29375     Ellie Goulding  [9086, 9174, 10388, 10389, 12804, 19124, 35773...   \n",
       "\n",
       "                                                     albums  \\\n",
       "track_id                                                      \n",
       "4868      ['21', '19', '21 (Deluxe Edition)', 'monday_pl...   \n",
       "26142     ['Some Nights', 'We Are Young', nan, 'The Best...   \n",
       "11393952  ['Making Mirrors (Deluxe Edition)', 'Somebody ...   \n",
       "16110     ['Random Access Memories', 'Get Lucky', 'Homew...   \n",
       "14034     ['We Found Love', 'The Official Uk Top 40 Sing...   \n",
       "51176     ['Best of...', 'Nothing but the Beat 2.0', 'No...   \n",
       "28847     ['Get Lucky', nan, 'Random Access Memories', '...   \n",
       "572665    ['21', '21 (Deluxe Edition)', 'Rolling in the ...   \n",
       "14775     ['Random Access Memories', 'Random Access Memo...   \n",
       "29375     ['Halcyon (Deluxe Edition)', 'Halcyon Days', '...   \n",
       "\n",
       "          distinct_user_count  \n",
       "track_id                       \n",
       "4868                     1597  \n",
       "26142                    1484  \n",
       "11393952                 1451  \n",
       "16110                    1391  \n",
       "14034                    1242  \n",
       "51176                    1108  \n",
       "28847                    1100  \n",
       "572665                   1068  \n",
       "14775                    1029  \n",
       "29375                    1002  "
      ]
     },
     "execution_count": 14,
     "metadata": {},
     "output_type": "execute_result"
    }
   ],
   "source": [
    "K = 10\n",
    "top_by_user = track_records.iloc[track_records.argsort().values[:-(K+1):-1]]\n",
    "top_by_user.name = \"distinct_user_count\"\n",
    "\n",
    "# Retrieve the task information from the `dataset` handler variable\n",
    "dataset.df_tracks.loc[top_by_user.index].join(top_by_user)"
   ]
  },
  {
   "cell_type": "markdown",
   "metadata": {},
   "source": [
    "Well, these song seem pretty popular, right? But something more came up... look at position **3** and **6**: there are two different versions of *Get Lucky*. Is this something you want your model to factor in at training time? "
   ]
  },
  {
   "cell_type": "markdown",
   "metadata": {},
   "source": [
    "**Q1: How many times does a user play the same song?**\n",
    "\n",
    "We can use the handy `user_track_count` to measure how frequently users get engaged by songs (remember to take a look at all the columns in `dataset.df_users`, there are very userful variable there)."
   ]
  },
  {
   "cell_type": "code",
   "execution_count": 15,
   "metadata": {},
   "outputs": [
    {
     "data": {
      "text/plain": [
       "count    227902.000000\n",
       "mean          2.533773\n",
       "std           2.873777\n",
       "min           1.000000\n",
       "0%            1.000000\n",
       "10%           1.250000\n",
       "20%           1.405405\n",
       "30%           1.578947\n",
       "40%           1.758621\n",
       "50%           1.976190\n",
       "60%           2.230769\n",
       "70%           2.580645\n",
       "80%           3.111111\n",
       "90%           4.200000\n",
       "max         500.615385\n",
       "Name: user_track_count, dtype: float64"
      ]
     },
     "execution_count": 15,
     "metadata": {},
     "output_type": "execute_result"
    }
   ],
   "source": [
    "avg_play_count = gb_track[\"user_track_count\"].mean()\n",
    "avg_play_count.describe(percentiles)"
   ]
  },
  {
   "cell_type": "markdown",
   "metadata": {},
   "source": [
    "On the average, a user repeats a given track ~2.6 times. Again, let's inspect our tail."
   ]
  },
  {
   "cell_type": "code",
   "execution_count": 16,
   "metadata": {},
   "outputs": [
    {
     "data": {
      "text/html": [
       "<div>\n",
       "<style scoped>\n",
       "    .dataframe tbody tr th:only-of-type {\n",
       "        vertical-align: middle;\n",
       "    }\n",
       "\n",
       "    .dataframe tbody tr th {\n",
       "        vertical-align: top;\n",
       "    }\n",
       "\n",
       "    .dataframe thead th {\n",
       "        text-align: right;\n",
       "    }\n",
       "</style>\n",
       "<table border=\"1\" class=\"dataframe\">\n",
       "  <thead>\n",
       "    <tr style=\"text-align: right;\">\n",
       "      <th></th>\n",
       "      <th>track</th>\n",
       "      <th>artist_id</th>\n",
       "      <th>artist</th>\n",
       "      <th>albums_id</th>\n",
       "      <th>albums</th>\n",
       "      <th>avg_play_count</th>\n",
       "    </tr>\n",
       "    <tr>\n",
       "      <th>track_id</th>\n",
       "      <th></th>\n",
       "      <th></th>\n",
       "      <th></th>\n",
       "      <th></th>\n",
       "      <th></th>\n",
       "      <th></th>\n",
       "    </tr>\n",
       "  </thead>\n",
       "  <tbody>\n",
       "    <tr>\n",
       "      <th>524819</th>\n",
       "      <td>Fade Into Me</td>\n",
       "      <td>59718</td>\n",
       "      <td>David Cook</td>\n",
       "      <td>[185432, 345497, 3655166, 4282962, 14730651]</td>\n",
       "      <td>['This Loud Morning (Deluxe Version)', 'This L...</td>\n",
       "      <td>500.615385</td>\n",
       "    </tr>\n",
       "    <tr>\n",
       "      <th>707141</th>\n",
       "      <td>Bastava</td>\n",
       "      <td>6319</td>\n",
       "      <td>Laura Pausini</td>\n",
       "      <td>[257911, 568326, 3710046, 6487077]</td>\n",
       "      <td>['Inedito', 'Inedito (Deluxe Edition)', 'Inedi...</td>\n",
       "      <td>450.090909</td>\n",
       "    </tr>\n",
       "    <tr>\n",
       "      <th>100848</th>\n",
       "      <td>Slow Me Down</td>\n",
       "      <td>15692</td>\n",
       "      <td>Anneke van Giersbergen</td>\n",
       "      <td>[33336, 7100104]</td>\n",
       "      <td>['Everything Is Changing', 'Everything Is Chan...</td>\n",
       "      <td>287.461538</td>\n",
       "    </tr>\n",
       "    <tr>\n",
       "      <th>100465</th>\n",
       "      <td>Planetary Confinement</td>\n",
       "      <td>15654</td>\n",
       "      <td>Antimatter</td>\n",
       "      <td>[33249, 521899]</td>\n",
       "      <td>['Planetary Confinement', 'Planetary Confineme...</td>\n",
       "      <td>250.214286</td>\n",
       "    </tr>\n",
       "    <tr>\n",
       "      <th>403143</th>\n",
       "      <td>Bombed</td>\n",
       "      <td>4721</td>\n",
       "      <td>Mark Lanegan</td>\n",
       "      <td>[66064, 223535, 1101069, 1101180, 4129582, 641...</td>\n",
       "      <td>['Bubblegum', 'Bubblegum', 'Has God Seen My Sh...</td>\n",
       "      <td>219.764706</td>\n",
       "    </tr>\n",
       "    <tr>\n",
       "      <th>176516</th>\n",
       "      <td>20.000 Miles Over the Sea</td>\n",
       "      <td>48</td>\n",
       "      <td>Enigma</td>\n",
       "      <td>[917, 60733]</td>\n",
       "      <td>['A Posteriori', 'A Posteriori (Advance)']</td>\n",
       "      <td>200.941176</td>\n",
       "    </tr>\n",
       "    <tr>\n",
       "      <th>994735</th>\n",
       "      <td>Circadian</td>\n",
       "      <td>59718</td>\n",
       "      <td>David Cook</td>\n",
       "      <td>[185432, 345497, 3655166, 4282962]</td>\n",
       "      <td>['This Loud Morning (Deluxe Version)', 'This L...</td>\n",
       "      <td>195.333333</td>\n",
       "    </tr>\n",
       "    <tr>\n",
       "      <th>361822</th>\n",
       "      <td>Bury Me in Vegas</td>\n",
       "      <td>14005</td>\n",
       "      <td>Eskimo Callboy</td>\n",
       "      <td>[125035]</td>\n",
       "      <td>['Bury Me in Vegas']</td>\n",
       "      <td>182.666667</td>\n",
       "    </tr>\n",
       "    <tr>\n",
       "      <th>362676</th>\n",
       "      <td>Youth Gone Wild (Skid Row cover)</td>\n",
       "      <td>8988</td>\n",
       "      <td>Asking Alexandria</td>\n",
       "      <td>[84931, 118455, 125624]</td>\n",
       "      <td>['Life Gone Wild', 'Life Gone Wild EP', 'Life ...</td>\n",
       "      <td>175.333333</td>\n",
       "    </tr>\n",
       "    <tr>\n",
       "      <th>659978</th>\n",
       "      <td>Tú y Yo</td>\n",
       "      <td>83847</td>\n",
       "      <td>Maite Perroni</td>\n",
       "      <td>[236860, 258591, 4284942, 4285216, 5565970, 10...</td>\n",
       "      <td>['Eclipse de Luna', 'Tú y Yo - Single', 'Tú Y ...</td>\n",
       "      <td>139.333333</td>\n",
       "    </tr>\n",
       "  </tbody>\n",
       "</table>\n",
       "</div>"
      ],
      "text/plain": [
       "                                     track  artist_id                  artist  \\\n",
       "track_id                                                                        \n",
       "524819                        Fade Into Me      59718              David Cook   \n",
       "707141                             Bastava       6319           Laura Pausini   \n",
       "100848                        Slow Me Down      15692  Anneke van Giersbergen   \n",
       "100465               Planetary Confinement      15654              Antimatter   \n",
       "403143                              Bombed       4721            Mark Lanegan   \n",
       "176516           20.000 Miles Over the Sea         48                  Enigma   \n",
       "994735                           Circadian      59718              David Cook   \n",
       "361822                    Bury Me in Vegas      14005          Eskimo Callboy   \n",
       "362676    Youth Gone Wild (Skid Row cover)       8988       Asking Alexandria   \n",
       "659978                             Tú y Yo      83847           Maite Perroni   \n",
       "\n",
       "                                                  albums_id  \\\n",
       "track_id                                                      \n",
       "524819         [185432, 345497, 3655166, 4282962, 14730651]   \n",
       "707141                   [257911, 568326, 3710046, 6487077]   \n",
       "100848                                     [33336, 7100104]   \n",
       "100465                                      [33249, 521899]   \n",
       "403143    [66064, 223535, 1101069, 1101180, 4129582, 641...   \n",
       "176516                                         [917, 60733]   \n",
       "994735                   [185432, 345497, 3655166, 4282962]   \n",
       "361822                                             [125035]   \n",
       "362676                              [84931, 118455, 125624]   \n",
       "659978    [236860, 258591, 4284942, 4285216, 5565970, 10...   \n",
       "\n",
       "                                                     albums  avg_play_count  \n",
       "track_id                                                                     \n",
       "524819    ['This Loud Morning (Deluxe Version)', 'This L...      500.615385  \n",
       "707141    ['Inedito', 'Inedito (Deluxe Edition)', 'Inedi...      450.090909  \n",
       "100848    ['Everything Is Changing', 'Everything Is Chan...      287.461538  \n",
       "100465    ['Planetary Confinement', 'Planetary Confineme...      250.214286  \n",
       "403143    ['Bubblegum', 'Bubblegum', 'Has God Seen My Sh...      219.764706  \n",
       "176516           ['A Posteriori', 'A Posteriori (Advance)']      200.941176  \n",
       "994735    ['This Loud Morning (Deluxe Version)', 'This L...      195.333333  \n",
       "361822                                 ['Bury Me in Vegas']      182.666667  \n",
       "362676    ['Life Gone Wild', 'Life Gone Wild EP', 'Life ...      175.333333  \n",
       "659978    ['Eclipse de Luna', 'Tú y Yo - Single', 'Tú Y ...      139.333333  "
      ]
     },
     "execution_count": 16,
     "metadata": {},
     "output_type": "execute_result"
    }
   ],
   "source": [
    "top_by_user = avg_play_count.iloc[avg_play_count.argsort().values[:-(K+1):-1]]\n",
    "top_by_user.name = \"avg_play_count\"\n",
    "dataset.df_tracks.loc[top_by_user.index].join(top_by_user)"
   ]
  },
  {
   "cell_type": "markdown",
   "metadata": {},
   "source": [
    "Here it is a new piece of information: the top 10 tracks by number of play counts is completely different than the one by number of distinct users."
   ]
  },
  {
   "cell_type": "code",
   "execution_count": 17,
   "metadata": {},
   "outputs": [],
   "source": [
    "# Cleanup..\n",
    "del gb_track\n",
    "del avg_play_count\n",
    "del track_records\n",
    "del top_by_user\n",
    "_ = gc.collect()"
   ]
  },
  {
   "cell_type": "markdown",
   "metadata": {},
   "source": [
    "## EDA on Users \n",
    "\n",
    "Let's move to users now."
   ]
  },
  {
   "cell_type": "code",
   "execution_count": 18,
   "metadata": {},
   "outputs": [],
   "source": [
    "gb_user = train.groupby(\"user_id\")"
   ]
  },
  {
   "cell_type": "code",
   "execution_count": 19,
   "metadata": {},
   "outputs": [],
   "source": [
    "user_records = gb_user.size()"
   ]
  },
  {
   "cell_type": "code",
   "execution_count": 20,
   "metadata": {},
   "outputs": [
    {
     "data": {
      "text/plain": [
       "count    29736.000000\n",
       "mean       232.278349\n",
       "std        108.022859\n",
       "min          9.000000\n",
       "0%           9.000000\n",
       "10%         77.000000\n",
       "20%        128.000000\n",
       "30%        170.000000\n",
       "40%        207.000000\n",
       "50%        239.000000\n",
       "60%        269.000000\n",
       "70%        300.000000\n",
       "80%        333.000000\n",
       "90%        373.000000\n",
       "max        498.000000\n",
       "dtype: float64"
      ]
     },
     "execution_count": 20,
     "metadata": {},
     "output_type": "execute_result"
    }
   ],
   "source": [
    "user_records.describe(percentiles=percentiles)"
   ]
  },
  {
   "cell_type": "markdown",
   "metadata": {},
   "source": [
    "There are almost 30K distinct users in our dataset. The average number of song they played is 232 with some binge listener that made it to 494.\n",
    "\n",
    "What about their demographics?"
   ]
  },
  {
   "cell_type": "code",
   "execution_count": 21,
   "metadata": {},
   "outputs": [],
   "source": [
    "train_users = train.join(dataset.df_users, on=\"user_id\", rsuffix=\"_data\")"
   ]
  },
  {
   "cell_type": "code",
   "execution_count": 22,
   "metadata": {},
   "outputs": [],
   "source": [
    "gb_train_users = train_users.groupby(\"user_id\")"
   ]
  },
  {
   "cell_type": "code",
   "execution_count": 23,
   "metadata": {},
   "outputs": [
    {
     "data": {
      "text/plain": [
       "n       0.529157\n",
       "m       0.337941\n",
       "f       0.131356\n",
       "None    0.001547\n",
       "Name: gender, dtype: float64"
      ]
     },
     "execution_count": 23,
     "metadata": {},
     "output_type": "execute_result"
    }
   ],
   "source": [
    "gb_train_users.first().gender.value_counts(normalize=True, dropna=False)"
   ]
  },
  {
   "cell_type": "markdown",
   "metadata": {},
   "source": [
    "Only half of our users are annotated with (binary) gender, and there is a significant skew towards males."
   ]
  },
  {
   "cell_type": "code",
   "execution_count": 24,
   "metadata": {},
   "outputs": [
    {
     "data": {
      "text/plain": [
       "None    0.537564\n",
       "US      0.088210\n",
       "RU      0.042137\n",
       "DE      0.038102\n",
       "UK      0.037900\n",
       "          ...   \n",
       "CV      0.000034\n",
       "BW      0.000034\n",
       "SZ      0.000034\n",
       "LK      0.000034\n",
       "LI      0.000034\n",
       "Name: country, Length: 162, dtype: float64"
      ]
     },
     "execution_count": 24,
     "metadata": {},
     "output_type": "execute_result"
    }
   ],
   "source": [
    "users_by_country = gb_train_users.first().country.value_counts(normalize=True, sort=True, ascending=False, dropna=False)\n",
    "users_by_country"
   ]
  },
  {
   "cell_type": "code",
   "execution_count": 25,
   "metadata": {},
   "outputs": [
    {
     "data": {
      "text/plain": [
       "US    2623\n",
       "RU    1253\n",
       "DE    1133\n",
       "UK    1127\n",
       "PL    1072\n",
       "BR     987\n",
       "NL     366\n",
       "FI     359\n",
       "SE     331\n",
       "ES     308\n",
       "Name: country, dtype: int64"
      ]
     },
     "execution_count": 25,
     "metadata": {},
     "output_type": "execute_result"
    }
   ],
   "source": [
    "top_countries = gb_train_users.first().country.value_counts(dropna=True, sort=True, ascending=False)[:10]\n",
    "top_countries"
   ]
  },
  {
   "cell_type": "code",
   "execution_count": 26,
   "metadata": {},
   "outputs": [
    {
     "data": {
      "text/plain": [
       "Text(0, 0.5, 'Count')"
      ]
     },
     "execution_count": 26,
     "metadata": {},
     "output_type": "execute_result"
    },
    {
     "data": {
      "image/png": "[encoded data removed]",
      "text/plain": [
       "<Figure size 864x576 with 1 Axes>"
      ]
     },
     "metadata": {},
     "output_type": "display_data"
    }
   ],
   "source": [
    "fig, ax = plt.subplots(figsize=(12,8))\n",
    "ax.bar(x=top_countries.index, height=top_countries.values)\n",
    "ax.set_xlabel(\"Country\")\n",
    "ax.set_ylabel(\"Count\")"
   ]
  },
  {
   "cell_type": "markdown",
   "metadata": {},
   "source": [
    "There are 158 distinct countries but only half of the users are annotated with that information. Most of the users was logged from the United States."
   ]
  },
  {
   "cell_type": "code",
   "execution_count": 27,
   "metadata": {},
   "outputs": [],
   "source": [
    "del gb_user\n",
    "del gb_train_users\n",
    "del top_countries\n",
    "_ = gc.collect()"
   ]
  },
  {
   "cell_type": "markdown",
   "metadata": {},
   "source": [
    "## Analysis on listening events\n",
    "\n",
    "We have explored relationships between users and tracks. But what about the playing time and hour? \n",
    "\n",
    "For example, one might search for any correlation between listening events and hour of the day. "
   ]
  },
  {
   "cell_type": "markdown",
   "metadata": {},
   "source": [
    "**Q0: Is there any listening pattern across hours of the day?**"
   ]
  },
  {
   "cell_type": "code",
   "execution_count": 28,
   "metadata": {},
   "outputs": [
    {
     "data": {
      "text/plain": [
       "Text(0, 0.5, 'Count')"
      ]
     },
     "execution_count": 28,
     "metadata": {},
     "output_type": "execute_result"
    },
    {
     "data": {
      "image/png": "[encoded data removed]",
      "text/plain": [
       "<Figure size 864x576 with 1 Axes>"
      ]
     },
     "metadata": {},
     "output_type": "display_data"
    }
   ],
   "source": [
    "fig, ax = plt.subplots(figsize=(12,8))\n",
    "ax = sns.countplot(data=train_users, x=\"hod\")\n",
    "ax.set_xlabel(\"Hour of the Day\")\n",
    "ax.set_ylabel(\"Count\")"
   ]
  },
  {
   "cell_type": "markdown",
   "metadata": {},
   "source": [
    "Remember that the `timestamp` attribute is in Unix time, i.e. it is absolute in terms of timezone. The chart is showing us that events are mainly located in a single timezone, as the events decrease in the morning and increase in late afternoon.   "
   ]
  },
  {
   "cell_type": "markdown",
   "metadata": {},
   "source": [
    "**Q1: Is there any listening pattern across hours of the day, separately by gender?**"
   ]
  },
  {
   "cell_type": "code",
   "execution_count": 29,
   "metadata": {},
   "outputs": [
    {
     "data": {
      "text/plain": [
       "Text(0, 0.5, 'Count')"
      ]
     },
     "execution_count": 29,
     "metadata": {},
     "output_type": "execute_result"
    },
    {
     "data": {
      "image/png": "[encoded data removed]",
      "text/plain": [
       "<Figure size 864x576 with 1 Axes>"
      ]
     },
     "metadata": {},
     "output_type": "display_data"
    }
   ],
   "source": [
    "fig, ax = plt.subplots(figsize=(12,8))\n",
    "ax = sns.countplot(data=train_users, x=\"hod\", hue=\"gender\")\n",
    "ax.set_xlabel(\"Hour of the Day\")\n",
    "ax.set_ylabel(\"Count\")"
   ]
  },
  {
   "cell_type": "markdown",
   "metadata": {},
   "source": [
    "Judging by the chart, there seem to be no evident difference. Well, beware!"
   ]
  }
 ],
 "metadata": {
  "kernelspec": {
   "display_name": "Python 3 (ipykernel)",
   "language": "python",
   "name": "python3"
  },
  "language_info": {
   "codemirror_mode": {
    "name": "ipython",
    "version": 3
   },
   "file_extension": ".py",
   "mimetype": "text/x-python",
   "name": "python",
   "nbconvert_exporter": "python",
   "pygments_lexer": "ipython3",
   "version": "3.8.0"
  }
 },
 "nbformat": 4,
 "nbformat_minor": 4
}
